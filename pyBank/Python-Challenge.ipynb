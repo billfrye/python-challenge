{
 "cells": [
  {
   "cell_type": "code",
   "execution_count": 31,
   "metadata": {},
   "outputs": [],
   "source": [
    "import os\n",
    "import csv"
   ]
  },
  {
   "cell_type": "code",
   "execution_count": 32,
   "metadata": {},
   "outputs": [],
   "source": [
    "file_path = os.path.join('.','Resources','budget_data.csv')\n",
    "output_path = os.path.join('.','output_file.txt')"
   ]
  },
  {
   "cell_type": "code",
   "execution_count": 33,
   "metadata": {},
   "outputs": [
    {
     "name": "stdout",
     "output_type": "stream",
     "text": [
      "file_path = .\\Resources\\budget_data.csv\n",
      "output_path = .\\output_file.txt\n"
     ]
    }
   ],
   "source": [
    "print(f\"file_path = {file_path}\")\n",
    "print(f\"output_path = {output_path}\")"
   ]
  },
  {
   "cell_type": "code",
   "execution_count": 34,
   "metadata": {},
   "outputs": [
    {
     "name": "stdout",
     "output_type": "stream",
     "text": [
      "['Date', 'Profit/Losses']\n"
     ]
    }
   ],
   "source": [
    "with open(file_path) as file:\n",
    "    reader = csv.reader(file,delimiter=',')\n",
    "    header = next(reader)\n",
    "    print(header)\n",
    "#    for s in reader:\n",
    "#        print(s)"
   ]
  },
  {
   "cell_type": "code",
   "execution_count": 35,
   "metadata": {},
   "outputs": [
    {
     "ename": "NameError",
     "evalue": "name 'date_col' is not defined",
     "output_type": "error",
     "traceback": [
      "\u001b[1;31m---------------------------------------------------------------------------\u001b[0m",
      "\u001b[1;31mNameError\u001b[0m                                 Traceback (most recent call last)",
      "\u001b[1;32m<ipython-input-35-56aab98fb624>\u001b[0m in \u001b[0;36m<module>\u001b[1;34m()\u001b[0m\n\u001b[1;32m----> 1\u001b[1;33m \u001b[0mcol\u001b[0m \u001b[1;33m=\u001b[0m \u001b[1;33m(\u001b[0m\u001b[0mdate_col\u001b[0m\u001b[1;33m,\u001b[0m \u001b[0mpl_col\u001b[0m\u001b[1;33m)\u001b[0m\u001b[1;33m\u001b[0m\u001b[0m\n\u001b[0m",
      "\u001b[1;31mNameError\u001b[0m: name 'date_col' is not defined"
     ]
    }
   ],
   "source": [
    "col = (date_col, pl_col)"
   ]
  },
  {
   "cell_type": "code",
   "execution_count": 22,
   "metadata": {},
   "outputs": [],
   "source": [
    "total_months = 0 \n",
    "month_change = []\n",
    "total_net = 0\n",
    "average_chg = 0\n",
    "# the following lists will only have a single list item\n",
    "greatest_increase = ({\"\":0})  # using 0 since the data set has at least one value greater than 0\n",
    "greatest_decrease = ({\"\":0})  # using 0 since the data set has at least one value less than 0"
   ]
  },
  {
   "cell_type": "code",
   "execution_count": 23,
   "metadata": {},
   "outputs": [],
   "source": [
    "with open(file_path) as file:\n",
    "    reader = csv.reader(file,delimiter=',')\n",
    "    header = next(reader)\n",
    "    #print(header)\n",
    "    first_row = next(reader)\n",
    "    total_months += 1\n",
    "    total_net = total_net+int(first_row[pl_col])\n",
    "    prev_net = int(first_row[pl_col])\n",
    "    \n",
    "    for row in reader:\n",
    "        total_months += 1\n",
    "        month_change.append(int(row[pl_col]) - prev_net)\n",
    "        #print(row)\n"
   ]
  },
  {
   "cell_type": "code",
   "execution_count": 30,
   "metadata": {},
   "outputs": [],
   "source": [
    "#for s in month_change:\n",
    "#    print(s)"
   ]
  },
  {
   "cell_type": "code",
   "execution_count": 16,
   "metadata": {},
   "outputs": [],
   "source": [
    "width = 70\n",
    "summarystrs = [\n",
    "  \"  Financial Analysis\".ljust(width,\" \"),\n",
    "  \"  ----------------------------------\".ljust(width,\" \"),\n",
    "  \"  Total Months: {0}\".ljust(width,\" \").format(total_months),\n",
    "  \"  Total: ${0:}\".ljust(width,\" \").format(total_net),\n",
    "  \"  Average Change: ${0}\".ljust(width,\" \").format(average_chg),\n",
    "  \"  Greatest Increase in Profits: month & amt\",\n",
    "  \"  Greatest Decrease in Profits: month & amt\"\n",
    "]"
   ]
  },
  {
   "cell_type": "code",
   "execution_count": 29,
   "metadata": {},
   "outputs": [
    {
     "name": "stdout",
     "output_type": "stream",
     "text": [
      "  Financial Analysis                                                  \n",
      "  ----------------------------------                                  \n",
      "  Total Months: 86                                                   \n",
      "  Total: $867884                                                        \n",
      "  Average Change: $0                                                \n",
      "  Greatest Increase in Profits: month & amt\n",
      "  Greatest Decrease in Profits: month & amt\n"
     ]
    }
   ],
   "source": [
    "for s in summarystrs:\n",
    "    print(s)"
   ]
  },
  {
   "cell_type": "code",
   "execution_count": null,
   "metadata": {},
   "outputs": [],
   "source": [
    "print(f\"Greatest Increase: {greatest_increase} & Greatest Descrease: {greatest_decrease}\")"
   ]
  },
  {
   "cell_type": "code",
   "execution_count": null,
   "metadata": {},
   "outputs": [],
   "source": []
  }
 ],
 "metadata": {
  "kernelspec": {
   "display_name": "PythonData",
   "language": "python",
   "name": "pythondata"
  },
  "language_info": {
   "codemirror_mode": {
    "name": "ipython",
    "version": 3
   },
   "file_extension": ".py",
   "mimetype": "text/x-python",
   "name": "python",
   "nbconvert_exporter": "python",
   "pygments_lexer": "ipython3",
   "version": "3.6.5"
  }
 },
 "nbformat": 4,
 "nbformat_minor": 2
}
