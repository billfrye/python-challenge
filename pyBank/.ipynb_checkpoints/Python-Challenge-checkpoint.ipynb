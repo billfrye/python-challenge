{
 "cells": [
  {
   "cell_type": "code",
   "execution_count": 1,
   "metadata": {},
   "outputs": [],
   "source": [
    "import os\n",
    "import csv"
   ]
  },
  {
   "cell_type": "code",
   "execution_count": 2,
   "metadata": {},
   "outputs": [
    {
     "name": "stdout",
     "output_type": "stream",
     "text": [
      ".\\Resources\\budget_data.csv\n"
     ]
    }
   ],
   "source": [
    "file_path = os.path.join('.','Resources','budget_data.csv')\n",
    "print(file_path)"
   ]
  },
  {
   "cell_type": "code",
   "execution_count": 3,
   "metadata": {},
   "outputs": [],
   "source": [
    "total_months = 0 \n",
    "month_change = []\n",
    "total_net = 0\n",
    "average_chg = 0\n"
   ]
  },
  {
   "cell_type": "code",
   "execution_count": 4,
   "metadata": {},
   "outputs": [],
   "source": []
  },
  {
   "cell_type": "code",
   "execution_count": 4,
   "metadata": {},
   "outputs": [
    {
     "name": "stdout",
     "output_type": "stream",
     "text": [
      "  Financial Analysis                                                  \n",
      "  ----------------------------------                                  \n",
      "  Total Months: 0                                                   \n",
      "  Total: $0                                                        \n",
      "  Average Change: $0                                                \n",
      "  Greatest Increase in Profits: month & amt\n",
      "  Greatest Decrease in Profits: month & amt\n"
     ]
    }
   ],
   "source": [
    "width = 70\n",
    "summarystrs = [\n",
    "  \"  Financial Analysis\".ljust(width,\" \"),\n",
    "  \"  ----------------------------------\".ljust(width,\" \"),\n",
    "  \"  Total Months: {0}\".ljust(width,\" \").format(total_months),\n",
    "  \"  Total: ${0:}\".ljust(width,\" \").format(total_net),\n",
    "  \"  Average Change: ${0}\".ljust(width,\" \").format(average_chg),\n",
    "  \"  Greatest Increase in Profits: month & amt\",\n",
    "  \"  Greatest Decrease in Profits: month & amt\"\n",
    "]\n",
    "for s in summarystrs:\n",
    "    print(s)\n"
   ]
  },
  {
   "cell_type": "code",
   "execution_count": 6,
   "metadata": {},
   "outputs": [
    {
     "name": "stdout",
     "output_type": "stream",
     "text": [
      "['Date', 'Profit/Losses']\n"
     ]
    }
   ],
   "source": [
    "with open(file_path) as file:\n",
    "    reader = csv.reader(file,delimiter=',')\n",
    "    header = next(reader)\n",
    "    print(header)\n",
    "    first_row = next(reader)\n",
    "    total_months += 1\n",
    "    total_net = total_net+int(first_row[1])\n",
    "    prev_net = int(first_row[1])\n",
    "    \n",
    "    for row in reader:\n",
    "        total_months += 1\n",
    "        month_change.append(int(row[1]) - prev_net)\n",
    "        #print(row)\n",
    "    greatest_increase = max(month_change)\n",
    "    greatest_decrease = min(month_change)"
   ]
  },
  {
   "cell_type": "code",
   "execution_count": 41,
   "metadata": {},
   "outputs": [
    {
     "name": "stdout",
     "output_type": "stream",
     "text": [
      "Greatest Increase: 302709 & Greatest Descrease: -2064109\n"
     ]
    }
   ],
   "source": [
    "print(f\"Greatest Increase: {greatest_increase} & Greatest Descrease: {greatest_decrease}\")"
   ]
  },
  {
   "cell_type": "code",
   "execution_count": null,
   "metadata": {},
   "outputs": [],
   "source": []
  }
 ],
 "metadata": {
  "kernelspec": {
   "display_name": "Python 3",
   "language": "python",
   "name": "python3"
  },
  "language_info": {
   "codemirror_mode": {
    "name": "ipython",
    "version": 3
   },
   "file_extension": ".py",
   "mimetype": "text/x-python",
   "name": "python",
   "nbconvert_exporter": "python",
   "pygments_lexer": "ipython3",
   "version": "3.6.5"
  }
 },
 "nbformat": 4,
 "nbformat_minor": 2
}
